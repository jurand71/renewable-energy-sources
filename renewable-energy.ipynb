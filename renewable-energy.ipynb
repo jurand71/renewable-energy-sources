{
 "cells": [
  {
   "cell_type": "code",
   "execution_count": null,
   "id": "419b73d0",
   "metadata": {},
   "outputs": [],
   "source": [
    "import numpy as np\n",
    "import pandas as pd\n",
    "\n",
    "import matplotlib.pyplot as plt"
   ]
  },
  {
   "cell_type": "code",
   "execution_count": null,
   "id": "31f8e2ef",
   "metadata": {},
   "outputs": [],
   "source": [
    "def save_picture(fig_name):\n",
    "    fig_name = 'images/'+ fig_name +'.png'\n",
    "    plt.savefig(fig_name, bbox_inches='tight', pad_inches=.2, dpi=300)\n",
    "    print('Saved: {}'.format(fig_name))"
   ]
  },
  {
   "cell_type": "code",
   "execution_count": null,
   "id": "ae4b8d2f",
   "metadata": {},
   "outputs": [],
   "source": [
    "df = pd.read_csv('owid-energy-data.csv')"
   ]
  },
  {
   "cell_type": "code",
   "execution_count": null,
   "id": "9c3a557f",
   "metadata": {},
   "outputs": [],
   "source": [
    "#select columns with renewables\n",
    "columns_with = ['iso_code','country','year','solar', 'wind', 'renewable']\n",
    "column_names = df.columns.values.tolist()\n",
    "columns = [column_name for column_name in column_names if any(word in column_name for word in columns_with)]\n",
    "df = df.loc[:,columns]"
   ]
  },
  {
   "cell_type": "code",
   "execution_count": null,
   "id": "1aa3cd78",
   "metadata": {},
   "outputs": [],
   "source": [
    "df.columns"
   ]
  },
  {
   "cell_type": "code",
   "execution_count": null,
   "id": "9712d744",
   "metadata": {},
   "outputs": [],
   "source": [
    "energy_from_renewables = df.loc[:,['country', 'year', 'iso_code','renewables_electricity','renewables_consumption','solar_electricity','wind_electricity','other_renewable_electricity','renewables_share_elec']]"
   ]
  },
  {
   "cell_type": "markdown",
   "id": "74ea60a4",
   "metadata": {},
   "source": [
    "# Energia odnawialna w Polsce"
   ]
  },
  {
   "cell_type": "markdown",
   "id": "002b7a74",
   "metadata": {},
   "source": [
    "https://globenergia.pl/ile-energii-wyprodukowaly-instalacje-oze-w-2021-roku/"
   ]
  },
  {
   "cell_type": "code",
   "execution_count": null,
   "id": "484891d7",
   "metadata": {},
   "outputs": [],
   "source": [
    "renewable_energy_Poland = energy_from_renewables[energy_from_renewables.country=='Poland'].dropna(axis=0)"
   ]
  },
  {
   "cell_type": "markdown",
   "id": "4215161d",
   "metadata": {},
   "source": [
    "### Energia wytwarzana w instalacjach OZE"
   ]
  },
  {
   "cell_type": "code",
   "execution_count": null,
   "id": "1b4dcd4a",
   "metadata": {
    "scrolled": true
   },
   "outputs": [],
   "source": [
    "fig_name = 'Energia wytwarzana w instalacjach OZE w latach 1965-2021'\n",
    "\n",
    "plt.figure(figsize=(18,8))\n",
    "plt.plot(renewable_energy_Poland['year'],renewable_energy_Poland['renewables_electricity'],label='Energia wytworzona w instalacjach OZE ')\n",
    "plt.plot(renewable_energy_Poland['year'],renewable_energy_Poland['solar_electricity'], label='Energia z instalacji fotowoltaicznych')\n",
    "plt.plot(renewable_energy_Poland['year'],renewable_energy_Poland['wind_electricity'], label='Energia z elektrowni wiatrowych')\n",
    "plt.plot(renewable_energy_Poland['year'],renewable_energy_Poland['other_renewable_electricity'], label='Energia z pozostałych źródeł odnawialnych')\n",
    "plt.grid(linestyle=':')\n",
    "plt.title(fig_name)\n",
    "plt.ylabel('[TWh]')\n",
    "plt.legend(loc='upper left')\n",
    "plt.fill_between(renewable_energy_Poland['year'], 0, renewable_energy_Poland['renewables_electricity'], color='g', alpha=0.02)\n",
    "\n",
    "save_picture(fig_name)"
   ]
  },
  {
   "cell_type": "code",
   "execution_count": null,
   "id": "06778091",
   "metadata": {},
   "outputs": [],
   "source": [
    "renewable_energy_Poland_20th = renewable_energy_Poland[renewable_energy_Poland.year.between(2000,2021)]"
   ]
  },
  {
   "cell_type": "code",
   "execution_count": null,
   "id": "f5d563e7",
   "metadata": {},
   "outputs": [],
   "source": [
    "fig_name = 'Energia wytwarzana w instalacjach OZE w latach 2000-2021'\n",
    "\n",
    "plt.figure(figsize=(18,8))\n",
    "plt.plot(renewable_energy_Poland_20th['year'],renewable_energy_Poland_20th['renewables_electricity'],label='Energia wytworzona w instalacjach OZE ')\n",
    "plt.plot(renewable_energy_Poland_20th['year'],renewable_energy_Poland_20th['solar_electricity'], label='Energia z instalacji fotowoltaicznych')\n",
    "plt.plot(renewable_energy_Poland_20th['year'],renewable_energy_Poland_20th['wind_electricity'], label='Energia z elektrowni wiatrowych')\n",
    "plt.plot(renewable_energy_Poland_20th['year'],renewable_energy_Poland_20th['other_renewable_electricity'], label='Energia z pozostałych źródeł odnawialnych')\n",
    "plt.grid(linestyle=':')\n",
    "plt.title(fig_name)\n",
    "plt.ylabel('[TWh]')\n",
    "plt.legend(loc='upper left')\n",
    "plt.fill_between(renewable_energy_Poland_20th['year'], 0, renewable_energy_Poland_20th['renewables_electricity'], color='g', alpha=0.02)\n",
    "plt.show()\n",
    "\n",
    "save_picture(fig_name)"
   ]
  },
  {
   "cell_type": "markdown",
   "id": "fbc1fe3f",
   "metadata": {},
   "source": [
    "Udział energii ze źródeł odnawialnych w całości wytwarzanej energii elektrycznej"
   ]
  },
  {
   "cell_type": "code",
   "execution_count": null,
   "id": "6469f2aa",
   "metadata": {},
   "outputs": [],
   "source": [
    "fig_name = 'Udział energii z OZE w elektroenergetyce (%) w latach 2000-2021'\n",
    "\n",
    "plt.figure(figsize=(18,8))\n",
    "plt.plot(renewable_energy_Poland_20th['year'],renewable_energy_Poland_20th['renewables_share_elec'],label='Udział energii z OZE w elektroenergetyce (%)')\n",
    "plt.grid(linestyle=':')\n",
    "plt.title(fig_name)\n",
    "plt.ylabel('[%]')\n",
    "plt.legend(loc='upper left')\n",
    "plt.fill_between(renewable_energy_Poland_20th['year'], 0, renewable_energy_Poland_20th['renewables_share_elec'], color='g', alpha=0.02)\n",
    "plt.show()\n",
    "\n",
    "save_picture(fig_name)"
   ]
  },
  {
   "cell_type": "code",
   "execution_count": null,
   "id": "f0a5e52f",
   "metadata": {},
   "outputs": [],
   "source": [
    "df_pl = pd.read_csv('Statystyczny_udział_OZE_w_Polsce.csv')"
   ]
  },
  {
   "cell_type": "code",
   "execution_count": null,
   "id": "ccc23356",
   "metadata": {},
   "outputs": [],
   "source": [
    "df_pl = df_pl.T.reset_index()\n",
    "df_pl.columns = df_pl.iloc[0]\n",
    "df_pl = df_pl[1:]\n",
    "df_pl.columns = ['Lata','Udział energii z OZE w ciepłownictwie i chłodnictwie (%)',\n",
    "                 'Udział energii z OZE w elektroenergetyce (%)', \n",
    "                 'Udział energii z OZE w transporcie (%)',\n",
    "                 'Udział energii ze źródeł odnawialnych w końcowym zużyciu energii brutto (%)']\n",
    "df_pl = df_pl.sort_values(by=['Lata'])\n",
    "df_pl.reset_index(drop=True, inplace=True)"
   ]
  },
  {
   "cell_type": "code",
   "execution_count": null,
   "id": "a49df62c",
   "metadata": {},
   "outputs": [],
   "source": [
    "df_pl"
   ]
  },
  {
   "cell_type": "code",
   "execution_count": null,
   "id": "bc23429e",
   "metadata": {},
   "outputs": [],
   "source": [
    "fig_name = 'Udział energii z OZE w latach 2013-2020 w poszczególnych sektorach (źródło: GUS)'\n",
    "\n",
    "plt.figure(figsize=(18,8))\n",
    "plt.plot(df_pl['Lata'],df_pl['Udział energii z OZE w elektroenergetyce (%)'],label='Udział energii z OZE w elektroenergetyce (%)')\n",
    "plt.plot(df_pl['Lata'],df_pl['Udział energii z OZE w ciepłownictwie i chłodnictwie (%)'],label='Udział energii z OZE w ciepłownictwie i chłodnictwie (%)')\n",
    "plt.plot(df_pl['Lata'],df_pl['Udział energii z OZE w transporcie (%)'],label='Udział energii z OZE w transporcie (%)')\n",
    "plt.plot(df_pl['Lata'],df_pl['Udział energii ze źródeł odnawialnych w końcowym zużyciu energii brutto (%)'],label='Udział energii ze źródeł odnawialnych w końcowym zużyciu energii brutto (%)')\n",
    "plt.grid(linestyle=':')\n",
    "plt.title(fig_name)\n",
    "plt.ylabel('[%]')\n",
    "plt.legend(loc='upper left')\n",
    "plt.show()\n",
    "\n",
    "save_picture(fig_name)"
   ]
  },
  {
   "cell_type": "code",
   "execution_count": null,
   "id": "9aa5fe53",
   "metadata": {},
   "outputs": [],
   "source": [
    "barWidth = 0.4\n",
    "fig = plt.figure(figsize=(18,8))\n",
    "\n",
    "Production = renewable_energy_Poland_20th['renewables_electricity']\n",
    "Consumption = renewable_energy_Poland_20th['renewables_consumption']\n",
    "\n",
    "# Position of bar\n",
    "br1 = np.arange(len(Production))\n",
    "br2 = [x + barWidth for x in br1]\n",
    "\n",
    "plt.bar(br1, Production, color='b', width = barWidth, edgecolor='grey', label='Energia wytwarzana w instalacjach OZE')\n",
    "plt.bar(br2, Consumption, color='r', width = barWidth, edgecolor='grey', label='Energia zużywana pochodząca z instalacji OZE')\n",
    "\n",
    "#title\n",
    "fig_name = 'Porównanie ilości wytwarzanej i zużywanej energi z instalacji OZE'\n",
    "\n",
    "#Adding Xticks\n",
    "plt.ylabel('[TWh]', fontsize=12)\n",
    "plt.xticks([r + barWidth for r in range(len(Production))],renewable_energy_Poland_20th['year'].tolist())\n",
    "plt.title(fig_name)\n",
    "plt.legend()\n",
    "plt.show()\n",
    "\n",
    "save_picture(fig_name)"
   ]
  },
  {
   "cell_type": "code",
   "execution_count": null,
   "id": "83b45ebb",
   "metadata": {},
   "outputs": [],
   "source": [
    "df = pd.read_csv('PL_GEN_WIATR_PV_2022.csv')\n",
    "df['Data'] = pd.to_datetime(df['Data'], format=\"%Y-%m-%d\")\n",
    "df['Godzina'] = df['Godzina'].astype(int)\n",
    "df['Data'] = df['Data'] + pd.to_timedelta(df['Godzina'], unit='h')\n",
    "df['Generacja źródeł wiatrowych'] = df['Generacja źródeł wiatrowych'].astype(float)\n",
    "df['Generacja źródeł fotowoltaicznych'] = df['Generacja źródeł fotowoltaicznych'].astype(float)\n",
    "\n",
    "df['Year'] = df['Data'].dt.year\n",
    "df['Month'] = df['Data'].dt.month\n",
    "df['Day'] = df['Data'].dt.day\n",
    "df['Hour'] = df['Godzina']"
   ]
  },
  {
   "cell_type": "code",
   "execution_count": null,
   "id": "5cb3919c",
   "metadata": {},
   "outputs": [],
   "source": [
    "df.info()"
   ]
  },
  {
   "cell_type": "code",
   "execution_count": null,
   "id": "67306360",
   "metadata": {},
   "outputs": [],
   "source": [
    "df.set_index('Data', inplace=True)"
   ]
  },
  {
   "cell_type": "code",
   "execution_count": null,
   "id": "1d1b050f",
   "metadata": {},
   "outputs": [],
   "source": [
    "df"
   ]
  },
  {
   "cell_type": "code",
   "execution_count": null,
   "id": "3925d891",
   "metadata": {},
   "outputs": [],
   "source": [
    "fig, ax = plt.subplots(figsize=(18,8))\n",
    "\n",
    "#title\n",
    "fig_name = 'Ilość energii wytwarzanej ze źródeł fotowoltaicznych w 2022 roku'\n",
    "\n",
    "ax.plot(df['Generacja źródeł fotowoltaicznych'])\n",
    "value = df['Generacja źródeł fotowoltaicznych'].mean()\n",
    "ax.axhline(value, linestyle='--', color='black')\n",
    "ax.annotate('%0.2f MWh' % value, xy=(1, value), xytext=(-120, 25), xycoords=('axes fraction', 'data'), textcoords='offset points')  \n",
    "ax.set_xlabel('Rok')\n",
    "ax.set_ylabel('[MWh]')\n",
    "ax.set_title(fig_name)\n",
    "plt.show()\n",
    "\n",
    "save_picture(fig_name)"
   ]
  },
  {
   "cell_type": "code",
   "execution_count": null,
   "id": "5b8cac96",
   "metadata": {},
   "outputs": [],
   "source": [
    "#Brak generacji w roku (Liczba godzin w roku 8760)\n",
    "ilosc_godzin = df[df['Generacja źródeł fotowoltaicznych'] == 0.0]['Godzina'].count() \n",
    "print(f'Ilość godzin bez wytwarzania energii ze źródeł fotowoltaicznych: {ilosc_godzin}')\n",
    "#Ilość wytworzonej energii w 2022\n",
    "suma_pv = df['Generacja źródeł fotowoltaicznych'].sum() \n",
    "suma_pv = np.round(suma_pv/1000000,2)\n",
    "print(f'W 2022 roku wytworzono ze źródeł fotowoltaicznych {suma_pv} TWh')\n",
    "# Maksymalna godzinowa generacja\n",
    "max_h_pv = df['Generacja źródeł fotowoltaicznych'].max()\n",
    "when_max_h_pv = df['Generacja źródeł fotowoltaicznych'].idxmax()\n",
    "print(f'Maksimum generacji wyniosło {max_h_pv} w dniu {when_max_h_pv}')"
   ]
  },
  {
   "cell_type": "code",
   "execution_count": null,
   "id": "69b22644",
   "metadata": {},
   "outputs": [],
   "source": [
    "#interactive graph with bokeh\n",
    "\n",
    "from bokeh.plotting import figure, show\n",
    "\n",
    "p = figure(height=300,width=650,title=fig_name,\n",
    "           x_axis_type=\"datetime\")\n",
    "p.line(df.index,df['Generacja źródeł fotowoltaicznych'],line_width=1)\n",
    "p.yaxis.axis_label='MWh'\n",
    "show(p)"
   ]
  },
  {
   "cell_type": "code",
   "execution_count": null,
   "id": "6552aeef",
   "metadata": {},
   "outputs": [],
   "source": [
    "fig, ax = plt.subplots(figsize=(18,8))\n",
    "\n",
    "#title\n",
    "fig_name = 'Ilość energii wytwarzanej ze źródeł wiatrowych w 2022 roku'\n",
    "\n",
    "ax.plot(df['Generacja źródeł wiatrowych'])\n",
    "value = df['Generacja źródeł wiatrowych'].mean()\n",
    "ax.axhline(value, linestyle='--', color='black')\n",
    "ax.annotate('%0.3f' % value, xy=(1, value), xytext=(-50, 10), xycoords=('axes fraction', 'data'), textcoords='offset points')  \n",
    "ax.set_xlabel('Rok')\n",
    "ax.set_ylabel('[MWh]')\n",
    "ax.set_title(fig_name)\n",
    "plt.show()\n",
    "\n",
    "save_picture(fig_name)"
   ]
  },
  {
   "cell_type": "code",
   "execution_count": null,
   "id": "a14b05e7",
   "metadata": {},
   "outputs": [],
   "source": [
    "#Brak generacji w roku (Liczba godzin w roku 8760)\n",
    "ilosc_godzin = df[df['Generacja źródeł wiatrowych'] == 0.0]['Godzina'].count() \n",
    "print(f'Ilość godzin bez wytwarzania energii ze źródeł wiatrowych: {ilosc_godzin}')\n",
    "#Ilość wytworzonej energii w 2022\n",
    "suma_pv = df['Generacja źródeł wiatrowych'].sum() \n",
    "suma_pv = np.round(suma_pv/1000000,2)\n",
    "print(f'W 2022 roku wytworzono ze źródeł wiatrowych {suma_pv} TWh')\n",
    "# Maksymalna godzinowa generacja\n",
    "max_h_wind = df['Generacja źródeł wiatrowych'].max()\n",
    "when_max_h_wind = df['Generacja źródeł wiatrowych'].idxmax()\n",
    "print(f'Maksimum generacji wyniosło {max_h_wind} w dniu {when_max_h_wind}')\n",
    "min_h_wind = df['Generacja źródeł wiatrowych'].min()\n",
    "when_min_h_wind = df['Generacja źródeł wiatrowych'].idxmin()\n",
    "print(f'Minimum generacji wyniosło {min_h_wind} w dniu {when_min_h_wind}')"
   ]
  },
  {
   "cell_type": "code",
   "execution_count": null,
   "id": "006a2ea5",
   "metadata": {},
   "outputs": [],
   "source": [
    "#interactive graph with bokeh\n",
    "\n",
    "from bokeh.plotting import figure, show\n",
    "\n",
    "p = figure(height=300,width=650,title=fig_name,\n",
    "           x_axis_type=\"datetime\")\n",
    "p.line(df.index,df['Generacja źródeł wiatrowych'],line_width=1)\n",
    "p.yaxis.axis_label='MWh'\n",
    "show(p)"
   ]
  },
  {
   "cell_type": "code",
   "execution_count": null,
   "id": "9423b53a",
   "metadata": {},
   "outputs": [],
   "source": [
    "# agregacja miesięczna\n",
    "monthly_aggregation_pl = df.groupby('Month')[['Generacja źródeł wiatrowych','Generacja źródeł fotowoltaicznych']].apply(sum)/1000"
   ]
  },
  {
   "cell_type": "code",
   "execution_count": null,
   "id": "a1bf7f54",
   "metadata": {},
   "outputs": [],
   "source": [
    "monthly_aggregation_pl"
   ]
  },
  {
   "cell_type": "code",
   "execution_count": null,
   "id": "455c12a7",
   "metadata": {},
   "outputs": [],
   "source": [
    "barWidth = 0.4\n",
    "fig = plt.figure(figsize=(18,8))\n",
    "\n",
    "Wind = monthly_aggregation_pl['Generacja źródeł wiatrowych']\n",
    "Sun = monthly_aggregation_pl['Generacja źródeł fotowoltaicznych']\n",
    "\n",
    "# Position of bar\n",
    "br1 = np.arange(len(Wind))\n",
    "br2 = [x + barWidth for x in br1]\n",
    "\n",
    "plt.bar(br1, Wind, color='b', width = barWidth, edgecolor='grey', label='Generacja ze źródeł wiatrowych')\n",
    "plt.bar(br2, Sun, color='r', width = barWidth, edgecolor='grey', label='Generacja ze źródeł fotowoltaicznych')\n",
    "\n",
    "#title\n",
    "fig_name = 'Generacja źródeł wiatrowych i fotowoltaicznych w poszczególnych miesiącach 2022'\n",
    "\n",
    "#Adding Xticks\n",
    "plt.ylabel('[GWh]', fontsize=12)\n",
    "plt.xticks([r + barWidth/2 for r in range(len(Wind))],monthly_aggregation_pl.index.tolist())\n",
    "plt.title(fig_name)\n",
    "plt.legend()\n",
    "plt.show()\n",
    "\n",
    "save_picture(fig_name)"
   ]
  },
  {
   "cell_type": "markdown",
   "id": "ed805b8a",
   "metadata": {},
   "source": [
    "# Energia odnawialna na świecie 2000-2021"
   ]
  },
  {
   "cell_type": "code",
   "execution_count": null,
   "id": "57543357",
   "metadata": {},
   "outputs": [],
   "source": [
    "renewable_energy_world = energy_from_renewables[energy_from_renewables.year.between(2000,2021)].groupby('country').mean().sort_values('renewables_electricity', ascending=False).dropna(axis=0)\n",
    "renewable_energy = renewable_energy_world['renewables_electricity'].head(90)"
   ]
  },
  {
   "cell_type": "code",
   "execution_count": null,
   "id": "c2e6f396",
   "metadata": {},
   "outputs": [],
   "source": [
    "world = {'World': renewable_energy.at['World']}\n",
    "\n",
    "continents = {\n",
    "    'Africa': renewable_energy.at['Africa'],    \n",
    "    'Asia': renewable_energy.at['Asia'],    \n",
    "    'Europe': renewable_energy.at['Europe'],\n",
    "    'North America': renewable_energy.at['North America'],\n",
    "    'South America': renewable_energy.at['South America']\n",
    "}\n",
    "\n",
    "top_5 = {\n",
    "    'China': renewable_energy.at['China'],\n",
    "    'United States': renewable_energy.at['United States'],\n",
    "    'Brazil': renewable_energy.at['Brazil'],\n",
    "    'Canada': renewable_energy.at['Canada'],\n",
    "    'Russia': renewable_energy.at['Russia']\n",
    "}\n",
    "\n",
    "norway = {'Norway': renewable_energy.at['Norway']}\n",
    "egypt = {'Egypt': renewable_energy.at['Egypt']}"
   ]
  },
  {
   "cell_type": "markdown",
   "id": "9fdf1277",
   "metadata": {},
   "source": [
    "### Energia z OZE na kontynentach"
   ]
  },
  {
   "cell_type": "code",
   "execution_count": null,
   "id": "ec283b92",
   "metadata": {},
   "outputs": [],
   "source": [
    "names = list(continents.keys())\n",
    "values = list(continents.values())"
   ]
  },
  {
   "cell_type": "code",
   "execution_count": null,
   "id": "2c10c2bf",
   "metadata": {},
   "outputs": [],
   "source": [
    "fig_name = 'Średnioroczna ilość energii wytwarzana w instalacjach OZE w latach 2000-2021 na kontynentach'\n",
    "\n",
    "plt.figure(figsize=(18,8))\n",
    "plt.bar(names,values)\n",
    "plt.grid(linestyle=':')\n",
    "plt.title(fig_name)\n",
    "plt.ylabel('[TWh]')\n",
    "plt.show()\n",
    "\n",
    "save_picture(fig_name)"
   ]
  },
  {
   "cell_type": "code",
   "execution_count": null,
   "id": "f1ff703e",
   "metadata": {},
   "outputs": [],
   "source": [
    "fig_name = 'Średnioroczna ilość energia wytwarzana w instalacjach OZE w latach 2000-2021 na kontynentach'\n",
    "\n",
    "plt.figure(figsize=(18,8))\n",
    "plt.pie(values,labels=names, autopct='%1.1f%%', shadow=False, startangle=0)\n",
    "plt.grid(linestyle=':')\n",
    "plt.title(fig_name)\n",
    "\n",
    "plt.show()\n",
    "\n",
    "save_picture(fig_name)"
   ]
  },
  {
   "cell_type": "markdown",
   "id": "0ec67793",
   "metadata": {},
   "source": [
    "### Światowi liderzy "
   ]
  },
  {
   "cell_type": "code",
   "execution_count": null,
   "id": "da0550e7",
   "metadata": {},
   "outputs": [],
   "source": [
    "import matplotlib.patches as mpatches\n",
    "\n",
    "import cartopy\n",
    "import cartopy.io.shapereader as shpreader\n",
    "import cartopy.crs as ccrs\n",
    "import cartopy.feature as cfeature\n",
    "\n",
    "import warnings\n",
    "warnings.filterwarnings(\"ignore\")"
   ]
  },
  {
   "cell_type": "code",
   "execution_count": null,
   "id": "74840f94",
   "metadata": {},
   "outputs": [],
   "source": [
    "df = pd.read_csv('countries_res.csv', index_col='ISO_CODE')"
   ]
  },
  {
   "cell_type": "code",
   "execution_count": null,
   "id": "a2bde5ea",
   "metadata": {},
   "outputs": [],
   "source": [
    "def plot_countries(df,projection,colors,annotation,title,edgecolor):\n",
    "    \n",
    "    plt.figure(figsize=(18,12))\n",
    "    geo_axes = plt.axes(projection=projection)\n",
    "    geo_axes.add_feature(cfeature.OCEAN, color='white')\n",
    "    geo_axes.add_feature(cfeature.COASTLINE)\n",
    "    geo_axes.add_feature(cfeature.BORDERS, color='grey')\n",
    "    \n",
    "    shpfilename = shpreader.natural_earth(resolution='110m',category='cultural',name='admin_0_countries')\n",
    "    reader = shpreader.Reader(shpfilename)\n",
    "    countries = reader.records()\n",
    "    values = list(df[title].unique())\n",
    "    \n",
    "    #country\n",
    "    for country in countries:\n",
    "        attribute = 'ADM0_A3'\n",
    "        ADM0_A3 = country.attributes['ADM0_A3']\n",
    "        \n",
    "        try:\n",
    "            classification = df.loc[ADM0_A3][title]\n",
    "        except:\n",
    "            pass\n",
    "    \n",
    "        geo_axes.add_geometries([country.geometry], ccrs.PlateCarree(), alpha=.3,\n",
    "                            facecolor=(colors[values.index(classification)]),\n",
    "                            label=country.attributes[attribute],\n",
    "                            edgecolor = edgecolor,\n",
    "                            linewidth=.25\n",
    "                            )\n",
    "    \n",
    "    #legend\n",
    "    handles = []\n",
    "    for n in range(len(values)):\n",
    "        handles.append(mpatches.Rectangle((0, 0), 1, 1, facecolor=colors[n]))\n",
    "        plt.legend(handles, values,loc='lower left', bbox_to_anchor=(0.025, -0.0),\n",
    "                   fancybox=True, frameon=False, fontsize=9)  \n",
    "        \n",
    "\n",
    "    #annotate\n",
    "    geo_axes.annotate(annotation, xy=(0,0), xycoords='figure fraction',\n",
    "            xytext=(0.0275, -0.025), textcoords='axes fraction',\n",
    "            horizontalalignment='left', verticalalignment='center', fontsize=9)    \n",
    "    \n",
    "    #title\n",
    "    plt.title(title, fontsize=11)\n",
    "    \n",
    "    title = 'maps/'+ title +'.png'\n",
    "    plt.savefig(title, bbox_inches='tight', pad_inches=.2, dpi=300)\n",
    "    print('Saved: {}'.format(title))"
   ]
  },
  {
   "cell_type": "code",
   "execution_count": null,
   "id": "5f24c371",
   "metadata": {},
   "outputs": [],
   "source": [
    "projection = ccrs.Robinson()\n",
    "\n",
    "title = 'Top 5 RES Energy Producers'\n",
    "colors = '#DDDDDD','#00FF00'\n",
    "annotation = 'Top 5 RES Energy Producers: https://ourworldindata.org/energy'\n",
    "\n",
    "plot_countries(df,projection,colors,annotation,title,edgecolor='grey')"
   ]
  },
  {
   "cell_type": "markdown",
   "id": "911ebdea",
   "metadata": {},
   "source": [
    "### Największe powierzchniowo kraje świata\n",
    "1\tRosja\t   17 098 242 km²\tAzja i Europa\n",
    "\n",
    "2\tKanada\t    9 984 670 km²\tAmeryka Północna\n",
    "\n",
    "3\tChiny\t    9 596 960 km²\tAzja\n",
    "\n",
    "4 \tUSA         9 525 067 km²\tAmeryka Północna\n",
    "\n",
    "5\tBrazylia\t8 515 767 km²\tAmeryka Południowa\n",
    "\n",
    "[https://pl.wikipedia.org/wiki/Lista_pa%C5%84stw_%C5%9Bwiata_wed%C5%82ug_powierzchni]"
   ]
  },
  {
   "cell_type": "code",
   "execution_count": null,
   "id": "152cd719",
   "metadata": {},
   "outputs": [],
   "source": [
    "names = list(top_5.keys())\n",
    "values = list(top_5.values())"
   ]
  },
  {
   "cell_type": "code",
   "execution_count": null,
   "id": "096f2f59",
   "metadata": {},
   "outputs": [],
   "source": [
    "fig_name = 'Średnioroczna energia wytwarzana w instalacjach OZE w latach 2000-2021 - pięciu największych wytwórców'\n",
    "\n",
    "plt.figure(figsize=(18,8))\n",
    "plt.bar(names,values)\n",
    "plt.grid(linestyle=':')\n",
    "plt.title(fig_name)\n",
    "plt.ylabel('[TWh]')\n",
    "plt.show()\n",
    "\n",
    "save_picture(fig_name)"
   ]
  },
  {
   "cell_type": "code",
   "execution_count": null,
   "id": "3cff3ba5",
   "metadata": {},
   "outputs": [],
   "source": [
    "fig_name = 'Średnioroczna energia wytwarzana w instalacjach OZE w latach 2000-2021 - pięciu największych wytwórców'\n",
    "\n",
    "plt.figure(figsize=(18,8))\n",
    "plt.pie(values,labels=names, autopct='%1.1f%%', shadow=False, startangle=0)\n",
    "plt.grid(linestyle=':')\n",
    "plt.title(fig_name)\n",
    "\n",
    "plt.show()\n",
    "\n",
    "save_picture(fig_name)"
   ]
  },
  {
   "cell_type": "code",
   "execution_count": null,
   "id": "9ace904a",
   "metadata": {},
   "outputs": [],
   "source": [
    "energy_from_renewables_China = energy_from_renewables[(energy_from_renewables.country=='China') & (energy_from_renewables.year.between(2000,2021))].dropna(axis=0)\n",
    "energy_from_renewables_USA = energy_from_renewables[(energy_from_renewables.country=='United States') & (energy_from_renewables.year.between(2000,2021))].dropna(axis=0)\n",
    "energy_from_renewables_Brazil = energy_from_renewables[(energy_from_renewables.country=='Brazil') & (energy_from_renewables.year.between(2000,2021))].dropna(axis=0)\n",
    "energy_from_renewables_Canada = energy_from_renewables[(energy_from_renewables.country=='Canada') & (energy_from_renewables.year.between(2000,2021))].dropna(axis=0)\n",
    "energy_from_renewables_Russia = energy_from_renewables[(energy_from_renewables.country=='Russia') & (energy_from_renewables.year.between(2000,2021))].dropna(axis=0)\n",
    "\n",
    "fig_name = 'Energia wytwarzana w instalacjach OZE w latach 2000-2021 w krajach pięciu największych wytwórców'\n",
    "\n",
    "plt.figure(figsize=(18,8))\n",
    "plt.plot(energy_from_renewables_China['year'],energy_from_renewables_China['renewables_electricity'],label='China')\n",
    "plt.plot(energy_from_renewables_China['year'],energy_from_renewables_USA['renewables_electricity'], label='USA')\n",
    "plt.plot(energy_from_renewables_China['year'],energy_from_renewables_Brazil['renewables_electricity'], label='Brazil')\n",
    "plt.plot(energy_from_renewables_China['year'],energy_from_renewables_Canada['renewables_electricity'], label='Canada')\n",
    "plt.plot(energy_from_renewables_China['year'],energy_from_renewables_Russia['renewables_electricity'], label='Russia')\n",
    "\n",
    "plt.grid(linestyle=':')\n",
    "plt.title(fig_name)\n",
    "plt.ylabel('[TWh]')\n",
    "plt.legend(loc='upper left')\n",
    "plt.show()\n",
    "\n",
    "save_picture(fig_name)"
   ]
  },
  {
   "cell_type": "markdown",
   "id": "d2df8a5a",
   "metadata": {},
   "source": [
    "## Top 5 na tle reszty producentów energii z OZE"
   ]
  },
  {
   "cell_type": "code",
   "execution_count": null,
   "id": "b08adbfd",
   "metadata": {},
   "outputs": [],
   "source": [
    "top_5_sum = sum(top_5.values())\n",
    "world_sum = sum(world.values())"
   ]
  },
  {
   "cell_type": "code",
   "execution_count": null,
   "id": "47331448",
   "metadata": {},
   "outputs": [],
   "source": [
    "fig_name = 'Średnioroczna energia wytwarzana w instalacjach OZE w latach 2000-2021 - udział pięciu największych wytwórców na tle pozostałych'\n",
    "\n",
    "names = ['Pozostali', 'Top 5 wytwórców']\n",
    "plt.figure(figsize=(18,8))\n",
    "plt.pie([world_sum-top_5_sum,top_5_sum],labels=names, autopct='%1.1f%%', shadow=False, startangle=0)\n",
    "plt.grid(linestyle=':')\n",
    "plt.title(fig_name)\n",
    "\n",
    "plt.show()\n",
    "\n",
    "save_picture(fig_name)"
   ]
  },
  {
   "cell_type": "markdown",
   "id": "737134f6",
   "metadata": {},
   "source": [
    "## Udział liderów w produkcji energii OZE na danym kontynencie"
   ]
  },
  {
   "cell_type": "code",
   "execution_count": null,
   "id": "6da5a9a4",
   "metadata": {},
   "outputs": [],
   "source": [
    "names = ['Africa\\nEgypt','Asia\\nChina','Europe\\nNorway','North America\\nUnited States','South America\\nBrazil']\n",
    "con_values = [continents['Africa'],continents['Asia'],continents['Europe'],continents['North America'],continents['South America']]\n",
    "countries_values = [egypt['Egypt'], top_5['China'],norway['Norway'],top_5['United States'],top_5['Brazil']]"
   ]
  },
  {
   "cell_type": "code",
   "execution_count": null,
   "id": "95366f5c",
   "metadata": {},
   "outputs": [],
   "source": [
    "barWidth = 0.5\n",
    "fig = plt.figure(figsize=(18,8))\n",
    "\n",
    "# Position of bar\n",
    "plt.bar(names, con_values, color='b', width = barWidth, edgecolor='grey', label='Produkcja energii z instalacji OZE - kontynent')\n",
    "plt.bar(names, countries_values, color='r', width = barWidth, edgecolor='grey', label='Zużycie energii z instalacji OZE - lider')\n",
    "\n",
    "#title\n",
    "fig_name = 'Ilość energii wytworzonej w kraju lidera na kontynencie'\n",
    "\n",
    "#Adding Xticks\n",
    "plt.ylabel('[TWh]', fontsize=12)\n",
    "plt.legend\n",
    "plt.show()\n",
    "\n",
    "save_picture(fig_name)"
   ]
  },
  {
   "cell_type": "markdown",
   "id": "56d68cdf",
   "metadata": {},
   "source": [
    "### Kraje UE"
   ]
  },
  {
   "cell_type": "code",
   "execution_count": null,
   "id": "88ec1ef0",
   "metadata": {},
   "outputs": [],
   "source": [
    "projection = ccrs.Orthographic(10,50)\n",
    "\n",
    "title = 'EU Members'\n",
    "colors = '#DDDDDD','#00FF00'\n",
    "annotation = 'EU Member Countries: https://en.wikipedia.org/wiki/Member_state_of_the_European_Union'\n",
    "\n",
    "plot_countries(df,projection,colors,annotation,title,edgecolor='grey')"
   ]
  },
  {
   "cell_type": "code",
   "execution_count": null,
   "id": "ab2c67cb",
   "metadata": {},
   "outputs": [],
   "source": [
    "new_df = df[df['EU Members'] == 'EU Member']\n",
    "UE_countries_list = new_df.index.tolist()\n",
    "renewable_energy_UE = energy_from_renewables[energy_from_renewables.iso_code.isin(UE_countries_list)]"
   ]
  },
  {
   "cell_type": "code",
   "execution_count": null,
   "id": "de533f7f",
   "metadata": {},
   "outputs": [],
   "source": [
    "### last year\n",
    "renewable_energy_UE_ly = renewable_energy_UE[renewable_energy_UE.year == 2021]\n",
    "renewable_energy_UE_ly_sorted_by_share = renewable_energy_UE_ly.sort_values('renewables_share_elec', ascending=False)"
   ]
  },
  {
   "cell_type": "code",
   "execution_count": null,
   "id": "9d5042bd",
   "metadata": {},
   "outputs": [],
   "source": [
    "renewable_energy_UE_ly_sorted_by_share"
   ]
  },
  {
   "cell_type": "code",
   "execution_count": null,
   "id": "c188bd0c",
   "metadata": {},
   "outputs": [],
   "source": [
    "barWidth = 0.4\n",
    "fig = plt.figure(figsize=(18,10))\n",
    "\n",
    "Production = renewable_energy_UE_ly_sorted_by_share['renewables_electricity']\n",
    "Share = renewable_energy_UE_ly_sorted_by_share['renewables_share_elec']\n",
    "\n",
    "ax = fig.add_subplot(111)\n",
    "ax2 = ax.twinx()\n",
    "\n",
    "# Position of bar\n",
    "br1 = np.arange(len(Production))\n",
    "br2 = [x + barWidth for x in br1]\n",
    "\n",
    "lns1 = ax.bar(br1, Production, color='b', width = barWidth, edgecolor='grey', label='Ilość energii wytworzone w instalacjach OZE (TWh)')\n",
    "lns2 = ax2.bar(br2, Share, color='r', width = barWidth, edgecolor='grey', label='Udział energii z OZE w elektroenergetyce (%)')\n",
    "\n",
    "ax.legend(handles=[lns1,lns2])\n",
    "\n",
    "#title\n",
    "fig_name = 'Ilość wytworzonej energii w instalacjach OZE oraz procentowy udział tej energii w elektroenergetyce'\n",
    "\n",
    "#Adding Xticks\n",
    "plt.ylabel('[%]', fontsize=12)\n",
    "plt.xticks([r + barWidth for r in range(len(Production))],renewable_energy_UE_ly_sorted_by_share['iso_code'].tolist())\n",
    "plt.show()\n",
    "\n",
    "save_picture(fig_name)"
   ]
  },
  {
   "cell_type": "code",
   "execution_count": null,
   "id": "98da2672",
   "metadata": {},
   "outputs": [],
   "source": []
  }
 ],
 "metadata": {
  "kernelspec": {
   "display_name": "Python 3 (ipykernel)",
   "language": "python",
   "name": "python3"
  },
  "language_info": {
   "codemirror_mode": {
    "name": "ipython",
    "version": 3
   },
   "file_extension": ".py",
   "mimetype": "text/x-python",
   "name": "python",
   "nbconvert_exporter": "python",
   "pygments_lexer": "ipython3",
   "version": "3.8.5"
  }
 },
 "nbformat": 4,
 "nbformat_minor": 5
}
